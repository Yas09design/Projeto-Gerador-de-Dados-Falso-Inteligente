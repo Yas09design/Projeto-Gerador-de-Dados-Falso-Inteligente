{
  "nbformat": 4,
  "nbformat_minor": 0,
  "metadata": {
    "colab": {
      "provenance": [],
      "authorship_tag": "ABX9TyMlTQ4tFN9LqSM3OE942IHJ",
      "include_colab_link": true
    },
    "kernelspec": {
      "name": "python3",
      "display_name": "Python 3"
    },
    "language_info": {
      "name": "python"
    }
  },
  "cells": [
    {
      "cell_type": "markdown",
      "metadata": {
        "id": "view-in-github",
        "colab_type": "text"
      },
      "source": [
        "<a href=\"https://colab.research.google.com/github/Yas09design/Projeto-Gerador-de-Dados-Falso-Inteligente/blob/main/Automacao_gerando_dados_com_Faker.ipynb\" target=\"_parent\"><img src=\"https://colab.research.google.com/assets/colab-badge.svg\" alt=\"Open In Colab\"/></a>"
      ]
    },
    {
      "cell_type": "code",
      "source": [
        "pip install Faker"
      ],
      "metadata": {
        "colab": {
          "base_uri": "https://localhost:8080/"
        },
        "id": "gDAJpNu3KatJ",
        "outputId": "e6c33b7e-b00c-476c-fe68-af727fcd7935"
      },
      "execution_count": 1,
      "outputs": [
        {
          "output_type": "stream",
          "name": "stdout",
          "text": [
            "Collecting Faker\n",
            "  Downloading faker-37.8.0-py3-none-any.whl.metadata (15 kB)\n",
            "Requirement already satisfied: tzdata in /usr/local/lib/python3.12/dist-packages (from Faker) (2025.2)\n",
            "Downloading faker-37.8.0-py3-none-any.whl (2.0 MB)\n",
            "\u001b[2K   \u001b[90m━━━━━━━━━━━━━━━━━━━━━━━━━━━━━━━━━━━━━━━━\u001b[0m \u001b[32m2.0/2.0 MB\u001b[0m \u001b[31m21.1 MB/s\u001b[0m eta \u001b[36m0:00:00\u001b[0m\n",
            "\u001b[?25hInstalling collected packages: Faker\n",
            "Successfully installed Faker-37.8.0\n"
          ]
        }
      ]
    },
    {
      "cell_type": "code",
      "source": [
        "# Importando as ferramentas necessárias\n",
        "import csv\n",
        "from faker import Faker\n",
        "\n",
        "# Configurando o Faker para gerar dados em Português do Brasil (pt_BR)\n",
        "dados_fake = Faker('pt_BR')\n",
        "\n",
        "# Definindo variáveis\n",
        "num_usuarios = 300\n",
        "nome_arquivo = 'gerador_dados_usuarios.csv'\n",
        "\n",
        "print(\"Configurações carregadas com sucesso!\")"
      ],
      "metadata": {
        "colab": {
          "base_uri": "https://localhost:8080/"
        },
        "id": "mU_2zVgMKqjK",
        "outputId": "afa8d90d-ac77-4fc6-f3ef-f51c6dc11b59"
      },
      "execution_count": 7,
      "outputs": [
        {
          "output_type": "stream",
          "name": "stdout",
          "text": [
            "Configurações carregadas com sucesso!\n"
          ]
        }
      ]
    },
    {
      "cell_type": "code",
      "source": [
        "# Função que define a estrutura de um usuário\n",
        "def criar_usuario(dados_fake):\n",
        "    return {\n",
        "        'nome_completo': dados_fake.name(),\n",
        "        'email': dados_fake.email(),\n",
        "        'cpf': dados_fake.cpf(),\n",
        "        'data_nascimento': dados_fake.date_of_birth(minimum_age=18, maximum_age=70).strftime('%Y-%m-%d'),\n",
        "        'endereco': dados_fake.address().replace('\\n', ', '),\n",
        "        'cidade': dados_fake.city(),\n",
        "        'estado': dados_fake.state_abbr(),\n",
        "    }\n",
        "\n",
        "print(\"Função 'criar_usuario' definida.\")"
      ],
      "metadata": {
        "colab": {
          "base_uri": "https://localhost:8080/"
        },
        "id": "GzR4m2kuNHr4",
        "outputId": "b2e62d5d-9f2a-4e15-b58f-eb95a7134331"
      },
      "execution_count": 11,
      "outputs": [
        {
          "output_type": "stream",
          "name": "stdout",
          "text": [
            "Função 'criar_usuario' definida.\n"
          ]
        }
      ]
    },
    {
      "cell_type": "code",
      "source": [
        "# Abrindo o arquivo no ambiente do Colab para escrita\n",
        "with open(nome_arquivo, mode='w', newline='', encoding='utf-8') as csvfile:\n",
        "    colunas = ['nome_completo', 'email', 'cpf', 'data_nascimento', 'endereco', 'cidade', 'estado']\n",
        "    escritor = csv.DictWriter(csvfile, fieldnames=colunas)\n",
        "\n",
        "    # cabeçalho\n",
        "    escritor.writeheader()\n",
        "\n",
        "    # Loop para gerar e escrever cada usuário\n",
        "    print(f\"Gerando {num_usuarios} usuários. Aguarde...\")\n",
        "    for _ in range(num_usuarios):\n",
        "        escritor.writerow(criar_usuario(dados_fake))\n",
        "\n",
        "print(f\"✅ Sucesso! O arquivo '{nome_arquivo}' foi gerado.\")"
      ],
      "metadata": {
        "colab": {
          "base_uri": "https://localhost:8080/"
        },
        "id": "67kYyWeRNg3A",
        "outputId": "359b845b-3cff-49f3-8871-4f4947f502ab"
      },
      "execution_count": 12,
      "outputs": [
        {
          "output_type": "stream",
          "name": "stdout",
          "text": [
            "Gerando 300 usuários. Aguarde...\n",
            "✅ Sucesso! O arquivo 'gerador_dados_usuarios.csv' foi gerado.\n"
          ]
        }
      ]
    }
  ]
}