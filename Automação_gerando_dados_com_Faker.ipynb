{
  "nbformat": 4,
  "nbformat_minor": 0,
  "metadata": {
    "colab": {
      "provenance": [],
      "authorship_tag": "ABX9TyONUOcAtdNUSj3uwUfx6UX1",
      "include_colab_link": true
    },
    "kernelspec": {
      "name": "python3",
      "display_name": "Python 3"
    },
    "language_info": {
      "name": "python"
    }
  },
  "cells": [
    {
      "cell_type": "markdown",
      "metadata": {
        "id": "view-in-github",
        "colab_type": "text"
      },
      "source": [
        "<a href=\"https://colab.research.google.com/github/Yas09design/Projeto-Gerador-de-Dados-Falso-Inteligente/blob/main/Automa%C3%A7%C3%A3o_gerando_dados_com_Faker.ipynb\" target=\"_parent\"><img src=\"https://colab.research.google.com/assets/colab-badge.svg\" alt=\"Open In Colab\"/></a>"
      ]
    },
    {
      "cell_type": "code",
      "source": [
        "pip install Faker"
      ],
      "metadata": {
        "colab": {
          "base_uri": "https://localhost:8080/"
        },
        "id": "gDAJpNu3KatJ",
        "outputId": "c9e102c2-2e6b-4495-a98e-88fb98e0c252"
      },
      "execution_count": null,
      "outputs": [
        {
          "output_type": "stream",
          "name": "stdout",
          "text": [
            "Requirement already satisfied: Faker in /usr/local/lib/python3.12/dist-packages (37.8.0)\n",
            "Requirement already satisfied: tzdata in /usr/local/lib/python3.12/dist-packages (from Faker) (2025.2)\n"
          ]
        }
      ]
    },
    {
      "cell_type": "code",
      "source": [
        "# Importando as ferramentas necessárias\n",
        "import csv\n",
        "from faker import Faker\n",
        "\n",
        "# Configurando o Faker para gerar dados em Português do Brasil (pt_BR)\n",
        "dados_fake = Faker('pt_BR')\n",
        "\n",
        "# Definindo variáveis\n",
        "num_usuarios = 500\n",
        "nome_arquivo = 'gerador_dados_usuarios.csv'\n",
        "\n",
        "print(\"Configurações carregadas com sucesso!\")"
      ],
      "metadata": {
        "colab": {
          "base_uri": "https://localhost:8080/"
        },
        "id": "mU_2zVgMKqjK",
        "outputId": "79f5c236-cfc5-4817-cb20-e7ff9e4d3c49"
      },
      "execution_count": null,
      "outputs": [
        {
          "output_type": "stream",
          "name": "stdout",
          "text": [
            "Configurações carregadas com sucesso!\n"
          ]
        }
      ]
    },
    {
      "cell_type": "code",
      "source": [
        "# Função que define a estrutura de um usuário\n",
        "def criar_usuario(dados_fake):\n",
        "    return {\n",
        "        'nome_completo': fake.name(),\n",
        "        'email': fake.email(),\n",
        "        'cpf': fake.cpf(),\n",
        "        'data_nascimento': fake.date_of_birth(minimum_age=18, maximum_age=70).strftime('%Y-%m-%d'),\n",
        "        'endereco': fake.address().replace('\\n', ', '),\n",
        "        'cidade': fake.city(),\n",
        "        'estado': fake.state_abbr(),\n",
        "    }\n",
        "\n",
        "print(\"Função 'criar_usuario' definida.\")\n"
      ],
      "metadata": {
        "colab": {
          "base_uri": "https://localhost:8080/"
        },
        "id": "GzR4m2kuNHr4",
        "outputId": "e8c41bbc-2b59-45c7-8b3b-294c9b52f576"
      },
      "execution_count": null,
      "outputs": [
        {
          "output_type": "stream",
          "name": "stdout",
          "text": [
            "Função 'criar_usuario' definida.\n"
          ]
        }
      ]
    },
    {
      "cell_type": "code",
      "source": [
        "# Abrindo o arquivo no ambiente do Colab para escrita\n",
        "with open(nome_arquivo, mode='w', newline='', encoding='utf-8') as csvfile:\n",
        "    colunas = ['nome_completo', 'email', 'cpf', 'data_nascimento', 'endereco', 'cidade', 'estado']\n",
        "    escritor = csv.DictWriter(csvfile, fieldnames=colunas)\n",
        "\n",
        "    # cabeçalho\n",
        "    escritor.writeheader()\n",
        "\n",
        "    # Loop para gerar e escrever cada usuário\n",
        "    print(f\"Gerando {num_usuarios} usuários. Aguarde...\")\n",
        "    for _ in range(num_usuarios):\n",
        "        escritor.writerow(criar_usuario())\n",
        "\n",
        "print(f\"✅ Sucesso! O arquivo '{nome_arquivo}' foi gerado.\")"
      ],
      "metadata": {
        "colab": {
          "base_uri": "https://localhost:8080/"
        },
        "id": "67kYyWeRNg3A",
        "outputId": "e0c84427-d478-468c-cd22-87445ac52d59"
      },
      "execution_count": null,
      "outputs": [
        {
          "output_type": "stream",
          "name": "stdout",
          "text": [
            "Gerando 500 usuários. Aguarde...\n",
            "✅ Sucesso! O arquivo 'gerador_dados_usuarios.csv' foi gerado.\n"
          ]
        }
      ]
    },
    {
      "cell_type": "code",
      "source": [
        "import sqlite3\n",
        "from faker import Faker\n",
        "\n",
        "# --- Configurações Iniciais ---\n",
        "dados_fake = Faker('pt_BR')\n",
        "num_usuarios = 500\n",
        "nome_banco = 'usuarios.db'\n",
        "\n",
        "# Conexão e Criação da Tabela\n",
        "conexao = sqlite3.connect(nome_banco)\n",
        "cursor = conexao.cursor()\n",
        "\n",
        "cursor.execute('''\n",
        "CREATE TABLE IF NOT EXISTS usuarios (\n",
        "    id INTEGER PRIMARY KEY AUTOINCREMENT,\n",
        "    nome_completo TEXT NOT NULL,\n",
        "    email TEXT NOT NULL UNIQUE,\n",
        "    cpf TEXT NOT NULL UNIQUE\n",
        ")\n",
        "''')\n",
        "print(\"✅ Banco de dados e tabela 'usuarios' prontos.\")\n"
      ],
      "metadata": {
        "id": "pI4OuQljRTWy",
        "outputId": "e9861d62-c744-48a2-c2b5-3a5e8715c129",
        "colab": {
          "base_uri": "https://localhost:8080/"
        }
      },
      "execution_count": 41,
      "outputs": [
        {
          "output_type": "stream",
          "name": "stdout",
          "text": [
            "✅ Banco de dados e tabela 'usuarios' prontos.\n"
          ]
        }
      ]
    }
  ]
}